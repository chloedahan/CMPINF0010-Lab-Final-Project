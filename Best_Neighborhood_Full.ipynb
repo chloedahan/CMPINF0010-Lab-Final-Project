{
 "cells": [
  {
   "cell_type": "markdown",
   "metadata": {},
   "source": [
    "# Goal: Determine the Best Neighborhood in Pittsburgh #\n",
    "\n",
    "In order to determine the best Pittsburgh neighborhood, our group **Parks and Recreaction** decided that the best neighborhood would definitely be the most fun for both adults and children. Therefore, we decided to design a metric called *fun_level*. This metric is constituted by the amount of public art pieces, playgrounds (playground_count), and playing fields each neighborhood has."
   ]
  },
  {
   "cell_type": "code",
   "execution_count": null,
   "metadata": {},
   "outputs": [],
   "source": [
    "import pandas as pd \n",
    "\n",
    "public_art = pd.read_csv(\"public_art.csv\") \n",
    "\n",
    "public_art.head()"
   ]
  },
  {
   "cell_type": "markdown",
   "metadata": {},
   "source": [
    "After visualizing the data, we wanted to convert the data set to a more suitable format for reading. Our main focus was on the neighborhoods introduced in the dataset, as well as the number of public art pieces in each neighborhood. Thus, we made a dictionary of all of the neighborhoods in the dataset and added a count for each time there was a piece of art in said neighborhood. "
   ]
  },
  {
   "cell_type": "code",
   "execution_count": null,
   "metadata": {},
   "outputs": [],
   "source": [
    "public_art_dict = dict()\n",
    "\n",
    "i = 0\n",
    "while i < len(public_art):\n",
    "    if public_art.iloc[i][\"neighborhood\"] not in public_art_dict:\n",
    "        public_art_dict[public_art.iloc[i][\"neighborhood\"]] = 1\n",
    "    else:\n",
    "        public_art_dict[public_art.iloc[i][\"neighborhood\"]] = public_art_dict[public_art.iloc[i][\"neighborhood\"]] + 1\n",
    "    i += 1\n",
    "\n",
    "print(public_art_dict)"
   ]
  },
  {
   "cell_type": "markdown",
   "metadata": {},
   "source": [
    "We did the same procedure that we carried out above, but for another dataset called \"City of Pittsburgh Playgrounds\". We called this dataset \"playgrounds.csv\"."
   ]
  },
  {
   "cell_type": "code",
   "execution_count": null,
   "metadata": {},
   "outputs": [],
   "source": [
    "playgrounds = pd.read_csv(\"playgrounds.csv\") \n",
    "\n",
    "playgrounds.head()"
   ]
  },
  {
   "cell_type": "code",
   "execution_count": null,
   "metadata": {},
   "outputs": [],
   "source": [
    "playground_dict = dict()\n",
    "\n",
    "i = 0\n",
    "while i < len(playgrounds):\n",
    "    if playgrounds.iloc[i][\"neighborhood\"] not in playground_dict:\n",
    "        playground_dict[playgrounds.iloc[i][\"neighborhood\"]] = 1\n",
    "    else:\n",
    "        playground_dict[playgrounds.iloc[i][\"neighborhood\"]] = playground_dict[playgrounds.iloc[i][\"neighborhood\"]] + 1\n",
    "    i += 1\n",
    "\n",
    "print(playground_dict)"
   ]
  },
  {
   "cell_type": "markdown",
   "metadata": {},
   "source": [
    "Finally, we made a third dictionary for the \"City of Pittsburgh Playing Fields\" dataset. We called this dataset \"playing_fields.csv\"."
   ]
  },
  {
   "cell_type": "code",
   "execution_count": 2,
   "metadata": {},
   "outputs": [
    {
     "ename": "NameError",
     "evalue": "name 'pd' is not defined",
     "output_type": "error",
     "traceback": [
      "\u001b[0;31m---------------------------------------------------------------------------\u001b[0m",
      "\u001b[0;31mNameError\u001b[0m                                 Traceback (most recent call last)",
      "\u001b[0;32m<ipython-input-2-e853886e98ff>\u001b[0m in \u001b[0;36m<module>\u001b[0;34m\u001b[0m\n\u001b[0;32m----> 1\u001b[0;31m \u001b[0mplayingfields\u001b[0m \u001b[0;34m=\u001b[0m \u001b[0mpd\u001b[0m\u001b[0;34m.\u001b[0m\u001b[0mread_csv\u001b[0m\u001b[0;34m(\u001b[0m\u001b[0;34m\"playing_fields.csv\"\u001b[0m\u001b[0;34m)\u001b[0m\u001b[0;34m\u001b[0m\u001b[0;34m\u001b[0m\u001b[0m\n\u001b[0m\u001b[1;32m      2\u001b[0m \u001b[0mplayingfields\u001b[0m\u001b[0;34m.\u001b[0m\u001b[0mhead\u001b[0m\u001b[0;34m(\u001b[0m\u001b[0;34m)\u001b[0m\u001b[0;34m\u001b[0m\u001b[0;34m\u001b[0m\u001b[0m\n",
      "\u001b[0;31mNameError\u001b[0m: name 'pd' is not defined"
     ]
    }
   ],
   "source": [
    "playingfields = pd.read_csv(\"playing_fields.csv\") \n",
    "playingfields.head()"
   ]
  },
  {
   "cell_type": "code",
   "execution_count": 3,
   "metadata": {},
   "outputs": [
    {
     "ename": "NameError",
     "evalue": "name 'playingfields' is not defined",
     "output_type": "error",
     "traceback": [
      "\u001b[0;31m---------------------------------------------------------------------------\u001b[0m",
      "\u001b[0;31mNameError\u001b[0m                                 Traceback (most recent call last)",
      "\u001b[0;32m<ipython-input-3-0e6c822a7ba9>\u001b[0m in \u001b[0;36m<module>\u001b[0;34m\u001b[0m\n\u001b[1;32m      2\u001b[0m \u001b[0;34m\u001b[0m\u001b[0m\n\u001b[1;32m      3\u001b[0m \u001b[0mi\u001b[0m \u001b[0;34m=\u001b[0m \u001b[0;36m0\u001b[0m\u001b[0;34m\u001b[0m\u001b[0;34m\u001b[0m\u001b[0m\n\u001b[0;32m----> 4\u001b[0;31m \u001b[0;32mwhile\u001b[0m \u001b[0mi\u001b[0m \u001b[0;34m<\u001b[0m \u001b[0mlen\u001b[0m\u001b[0;34m(\u001b[0m\u001b[0mplayingfields\u001b[0m\u001b[0;34m)\u001b[0m\u001b[0;34m:\u001b[0m\u001b[0;34m\u001b[0m\u001b[0;34m\u001b[0m\u001b[0m\n\u001b[0m\u001b[1;32m      5\u001b[0m     \u001b[0;32mif\u001b[0m \u001b[0mplayingfields\u001b[0m\u001b[0;34m.\u001b[0m\u001b[0miloc\u001b[0m\u001b[0;34m[\u001b[0m\u001b[0mi\u001b[0m\u001b[0;34m]\u001b[0m\u001b[0;34m[\u001b[0m\u001b[0;34m\"neighborhood\"\u001b[0m\u001b[0;34m]\u001b[0m \u001b[0;32mnot\u001b[0m \u001b[0;32min\u001b[0m \u001b[0mplayingfield_dict\u001b[0m\u001b[0;34m:\u001b[0m\u001b[0;34m\u001b[0m\u001b[0;34m\u001b[0m\u001b[0m\n\u001b[1;32m      6\u001b[0m         \u001b[0mplayingfield_dict\u001b[0m\u001b[0;34m[\u001b[0m\u001b[0mplayingfields\u001b[0m\u001b[0;34m.\u001b[0m\u001b[0miloc\u001b[0m\u001b[0;34m[\u001b[0m\u001b[0mi\u001b[0m\u001b[0;34m]\u001b[0m\u001b[0;34m[\u001b[0m\u001b[0;34m\"neighborhood\"\u001b[0m\u001b[0;34m]\u001b[0m\u001b[0;34m]\u001b[0m \u001b[0;34m=\u001b[0m \u001b[0;36m1\u001b[0m\u001b[0;34m\u001b[0m\u001b[0;34m\u001b[0m\u001b[0m\n",
      "\u001b[0;31mNameError\u001b[0m: name 'playingfields' is not defined"
     ]
    }
   ],
   "source": [
    "playingfield_dict = dict()\n",
    "\n",
    "i = 0\n",
    "while i < len(playingfields):\n",
    "    if playingfields.iloc[i][\"neighborhood\"] not in playingfield_dict:\n",
    "        playingfield_dict[playingfields.iloc[i][\"neighborhood\"]] = 1\n",
    "    else:\n",
    "        playingfield_dict[playingfields.iloc[i][\"neighborhood\"]] = playingfield_dict[playingfields.iloc[i][\"neighborhood\"]] + 1\n",
    "    i += 1\n",
    "\n",
    "print(playingfield_dict)"
   ]
  },
  {
   "cell_type": "markdown",
   "metadata": {},
   "source": [
    "Now, we have created three dictionaries: one for all of the public art pieces, one for all of the playgrounds, and one for all of the playing fields in our datasets. \n",
    "\n",
    "Then, we created another dictionary titled \"playground_art_field_dict\". As the name suggests, we used this dictionary to organize our neighborhoods and added counts for how many public art pieces, playgrounds, AND playing fields the neighborhood contained, according to our datasets."
   ]
  },
  {
   "cell_type": "code",
   "execution_count": 4,
   "metadata": {},
   "outputs": [
    {
     "ename": "NameError",
     "evalue": "name 'playground_dict' is not defined",
     "output_type": "error",
     "traceback": [
      "\u001b[0;31m---------------------------------------------------------------------------\u001b[0m",
      "\u001b[0;31mNameError\u001b[0m                                 Traceback (most recent call last)",
      "\u001b[0;32m<ipython-input-4-b0853418d1ea>\u001b[0m in \u001b[0;36m<module>\u001b[0;34m\u001b[0m\n\u001b[0;32m----> 1\u001b[0;31m \u001b[0mplayground_art_field_dict\u001b[0m\u001b[0;34m=\u001b[0m\u001b[0mplayground_dict\u001b[0m\u001b[0;34m\u001b[0m\u001b[0;34m\u001b[0m\u001b[0m\n\u001b[0m\u001b[1;32m      2\u001b[0m \u001b[0;32mfor\u001b[0m \u001b[0mkey\u001b[0m \u001b[0;32min\u001b[0m \u001b[0mplayground_dict\u001b[0m\u001b[0;34m:\u001b[0m\u001b[0;34m\u001b[0m\u001b[0;34m\u001b[0m\u001b[0m\n\u001b[1;32m      3\u001b[0m     \u001b[0;32mif\u001b[0m \u001b[0mkey\u001b[0m \u001b[0;32min\u001b[0m \u001b[0mpublic_art_dict\u001b[0m\u001b[0;34m:\u001b[0m\u001b[0;34m\u001b[0m\u001b[0;34m\u001b[0m\u001b[0m\n\u001b[1;32m      4\u001b[0m         \u001b[0mplayground_art_field_dict\u001b[0m\u001b[0;34m[\u001b[0m\u001b[0mkey\u001b[0m\u001b[0;34m]\u001b[0m\u001b[0;34m=\u001b[0m\u001b[0mplayground_dict\u001b[0m\u001b[0;34m[\u001b[0m\u001b[0mkey\u001b[0m\u001b[0;34m]\u001b[0m\u001b[0;34m+\u001b[0m\u001b[0mpublic_art_dict\u001b[0m\u001b[0;34m[\u001b[0m\u001b[0mkey\u001b[0m\u001b[0;34m]\u001b[0m\u001b[0;34m+\u001b[0m\u001b[0mplayingfield_dict\u001b[0m\u001b[0;34m[\u001b[0m\u001b[0mkey\u001b[0m\u001b[0;34m]\u001b[0m\u001b[0;34m\u001b[0m\u001b[0;34m\u001b[0m\u001b[0m\n",
      "\u001b[0;31mNameError\u001b[0m: name 'playground_dict' is not defined"
     ]
    }
   ],
   "source": [
    "playground_art_field_dict=playground_dict\n",
    "for key in playground_dict:\n",
    "    if key in public_art_dict:\n",
    "        playground_art_field_dict[key]=playground_dict[key]+public_art_dict[key]+playingfield_dict[key]"
   ]
  },
  {
   "cell_type": "markdown",
   "metadata": {},
   "source": [
    "Here, we set the playground_art_field_dict equal to playground_dict. Then, we used a for loop to add iterate through the public_art_dict and playingfield_dict and added a count next to the appropriate neighborhood if it also contained public art pieces or playing fields. This resulted in a dictionary that listed each neighborhood in both datasets with a count that represented how many public art pieces, playgrounds, and playing fields there were.\n",
    "\n",
    "Below, we created a dataframe called \"playgrounds_art_field_df\" that contained items from our playground_art_field_dict. We made this dataframe have two columns that were called \"Neighborhoods\" (contained the neighborhoods in the datasets) and \"Total of Playgrounds, Public Art, and Playing Fields\". We then sorted the counts for each neighborhood so that they were in ascending order, and set this equal to \"total_df.\" We used the .tail() function to get the top 30 neighborhoods with the highest fun_level. Finally, we oriented the dataframe so that the names of the neighborhoods would fall on the x axis and their fun_level would be on the y axis, and plotted it."
   ]
  },
  {
   "cell_type": "code",
   "execution_count": 5,
   "metadata": {},
   "outputs": [
    {
     "ename": "NameError",
     "evalue": "name 'pd' is not defined",
     "output_type": "error",
     "traceback": [
      "\u001b[0;31m---------------------------------------------------------------------------\u001b[0m",
      "\u001b[0;31mNameError\u001b[0m                                 Traceback (most recent call last)",
      "\u001b[0;32m<ipython-input-5-f870a5a13773>\u001b[0m in \u001b[0;36m<module>\u001b[0;34m\u001b[0m\n\u001b[0;32m----> 1\u001b[0;31m \u001b[0mplaygrounds_art_df\u001b[0m\u001b[0;34m=\u001b[0m \u001b[0mpd\u001b[0m\u001b[0;34m.\u001b[0m\u001b[0mDataFrame\u001b[0m\u001b[0;34m(\u001b[0m\u001b[0mlist\u001b[0m\u001b[0;34m(\u001b[0m\u001b[0mplayground_art_dict\u001b[0m\u001b[0;34m.\u001b[0m\u001b[0mitems\u001b[0m\u001b[0;34m(\u001b[0m\u001b[0;34m)\u001b[0m\u001b[0;34m)\u001b[0m\u001b[0;34m,\u001b[0m\u001b[0mcolumns\u001b[0m\u001b[0;34m=\u001b[0m\u001b[0;34m[\u001b[0m\u001b[0;34m'Neighborhoods'\u001b[0m\u001b[0;34m,\u001b[0m\u001b[0;34m'Total of Playgrounds, Art, and Playing Fields'\u001b[0m\u001b[0;34m]\u001b[0m\u001b[0;34m)\u001b[0m\u001b[0;34m\u001b[0m\u001b[0;34m\u001b[0m\u001b[0m\n\u001b[0m\u001b[1;32m      2\u001b[0m \u001b[0;34m\u001b[0m\u001b[0m\n\u001b[1;32m      3\u001b[0m \u001b[0mtotal_df\u001b[0m\u001b[0;34m=\u001b[0m\u001b[0mplaygrounds_art_df\u001b[0m\u001b[0;34m.\u001b[0m\u001b[0msort_values\u001b[0m\u001b[0;34m(\u001b[0m\u001b[0;34m'Total of Playgrounds, Art, and Playing Fields'\u001b[0m\u001b[0;34m)\u001b[0m\u001b[0;34m\u001b[0m\u001b[0;34m\u001b[0m\u001b[0m\n\u001b[1;32m      4\u001b[0m \u001b[0;34m\u001b[0m\u001b[0m\n\u001b[1;32m      5\u001b[0m \u001b[0;34m\u001b[0m\u001b[0m\n",
      "\u001b[0;31mNameError\u001b[0m: name 'pd' is not defined"
     ]
    }
   ],
   "source": [
    "playgrounds_art_df= pd.DataFrame(list(playground_art_dict.items()),columns=['Neighborhoods','Total of Playgrounds, Art, and Playing Fields'])\n",
    "\n",
    "total_df=playgrounds_art_df.sort_values('Total of Playgrounds, Art, and Playing Fields')\n",
    "\n",
    "\n",
    "total_df=total_df.tail(30)\n",
    "\n",
    "\n",
    "total_df.plot.bar(x='Neighborhoods',y='Total of Playgrounds, Art, and Playing Fields')"
   ]
  },
  {
   "cell_type": "markdown",
   "metadata": {},
   "source": [
    "When viewing the bar chart, it can be concluded that Squirrel Hill South is the neighborhood in Pittsburgh with the highest fun_level. It is significantly higher than other neighborhoods in the dataset. Due to this evidence, we conclude that the best neighborhood in Pittsburgh is **Squirrel Hill South**. "
   ]
  },
  {
   "cell_type": "code",
   "execution_count": null,
   "metadata": {},
   "outputs": [],
   "source": []
  },
  {
   "cell_type": "code",
   "execution_count": null,
   "metadata": {},
   "outputs": [],
   "source": []
  }
 ],
 "metadata": {
  "kernelspec": {
   "display_name": "Python 3",
   "language": "python",
   "name": "python3"
  },
  "language_info": {
   "codemirror_mode": {
    "name": "ipython",
    "version": 3
   },
   "file_extension": ".py",
   "mimetype": "text/x-python",
   "name": "python",
   "nbconvert_exporter": "python",
   "pygments_lexer": "ipython3",
   "version": "3.7.7"
  }
 },
 "nbformat": 4,
 "nbformat_minor": 4
}
