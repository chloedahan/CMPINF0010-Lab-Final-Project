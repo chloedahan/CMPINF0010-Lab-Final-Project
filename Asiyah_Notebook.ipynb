{
 "cells": [
  {
   "cell_type": "markdown",
   "id": "deluxe-vitamin",
   "metadata": {},
   "source": [
    "**Playgrounds Analysis**\n",
    "I analyzed the playground dataset. I started by importing pandas the CSV file, and created a dictionary of each neighborhood listed in the dataset, adding a count for each playground that a neighborhood contained. \n",
    "\n",
    "The metric that I designed is playground_count, which simply consists of how many playgrounds can be found in each neighborhood. "
   ]
  },
  {
   "cell_type": "code",
   "execution_count": null,
   "id": "boring-traveler",
   "metadata": {},
   "outputs": [],
   "source": [
    "import pandas as pd\n",
    "\n",
    "playgrounds = pd.read_csv(\"playgrounds.csv\") \n",
    "\n",
    "playgrounds.head()"
   ]
  },
  {
   "cell_type": "code",
   "execution_count": null,
   "id": "suited-insulation",
   "metadata": {},
   "outputs": [],
   "source": [
    "playground_dict = dict()\n",
    "\n",
    "i = 0\n",
    "while i < len(playgrounds):\n",
    "    if playgrounds.iloc[i][\"neighborhood\"] not in playground_dict:\n",
    "        playground_dict[playgrounds.iloc[i][\"neighborhood\"]] = 1\n",
    "    else:\n",
    "        playground_dict[playgrounds.iloc[i][\"neighborhood\"]] = playground_dict[playgrounds.iloc[i][\"neighborhood\"]] + 1\n",
    "    i += 1\n",
    "\n",
    "print(playground_dict)"
   ]
  },
  {
   "cell_type": "markdown",
   "id": "protecting-loading",
   "metadata": {},
   "source": [
    "After printing the dataset, I plotted the data in a bar graph, with neighborhoods on the x axis and the number of playgrounds on the y axis (in ascending order), to see which neighborhood had the highest number of playgrounds."
   ]
  },
  {
   "cell_type": "code",
   "execution_count": null,
   "id": "multiple-posting",
   "metadata": {},
   "outputs": [],
   "source": [
    "playgrounds_df = pd.DataFrame(list(playground_dict.items()),columns=['Neighborhoods','Playground Count'])\n",
    "\n",
    "total_df = playgrounds_df.sort_values('Playground Count')\n",
    "\n",
    "\n",
    "total_df = total_df.tail(30)\n",
    "\n",
    "\n",
    "total_df.plot.bar(x='Neighborhoods',y='Playground count')"
   ]
  },
  {
   "cell_type": "markdown",
   "id": "separate-anderson",
   "metadata": {},
   "source": [
    "**Conclusion**\n",
    "When viewing the bar graph, it becomes clear that Squirrel Hill South has the highest playground_count, at 8 playgrounds. After combining all of our metrics, my group also concluded that Squirrel Hill South was the best neighborhood overall in Pittsburgh. Thus, the results of my analysis don't come as much of a shock. I anticipated that due to Squirrel Hill South's popularity, it would have a lot more facilities that cater to children, such as playgrounds. Squirrel Hill South is actually my personal favorite neighborhood in Pittsburgh. During the semester, my friends and I would frequently bus there to go to our favorite Thai restaurant or boba place. That makes the conclusion of the \"best neighborhood\" even more personal and conceivable to me since I have made so many fond memories there. Overall Squirrel Hill South is not only a fun neighborhood according to my opinion, but a neighborhood whose superiority can be supported by statistics as well."
   ]
  }
 ],
 "metadata": {
  "kernelspec": {
   "display_name": "Python 3",
   "language": "python",
   "name": "python3"
  },
  "language_info": {
   "codemirror_mode": {
    "name": "ipython",
    "version": 3
   },
   "file_extension": ".py",
   "mimetype": "text/x-python",
   "name": "python",
   "nbconvert_exporter": "python",
   "pygments_lexer": "ipython3",
   "version": "3.7.7"
  }
 },
 "nbformat": 4,
 "nbformat_minor": 5
}
