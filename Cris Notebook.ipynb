{
 "cells": [
  {
   "cell_type": "markdown",
   "metadata": {},
   "source": [
    "Cris Story. I implemented the data set playing_fields and utilzed the *green_space metric*. As well added the playing field decription in the read me. As well create the final graphs."
   ]
  },
  {
   "cell_type": "markdown",
   "metadata": {},
   "source": [
    "Description for Playing Fields:\n",
    "\n",
    "The full name of this dataset is \"City of Pittsburgh Public Art.\" It was submitted to the WPRDC by the City of Pittsburgh Department of Innovation and Performance. No additional information or files is needed to interpret the dataset. The dataset gives the name of the art piece, the name of the artist (if known), whether or not its a park, what neighborhood it's located in, and more. There does not appear to be anything missing. It is of recreational use to residents, tourists, and artists in Pittsburgh. We concluded that it was a good dataset. It can be found in our github repository under \"playing_fields.csv\".\n",
    "Link: https://data.wprdc.org/dataset/playing-fields\n"
   ]
  },
  {
   "cell_type": "markdown",
   "metadata": {},
   "source": [
    "# Goal: Determine the Best Neighborhood in Pittsburgh #\n",
    "\n",
    "In order to determine the best Pittsburgh neighborhood, our group **Parks and Recreaction** decided that the best neighborhood would definitely be the most fun for both adults and children. Therefore, we decided to design a metric called *fun_level*. This metric is constituted by the amount of public art pieces, playgrounds, and playing fields each neighborhood has. We believe that public art pieces and exhibits will keep adults occupied while their children or young relatives stay occupied by the neighborhood's playgrounds and playing fields. My individual metric for my data set is the *green_space metric*. The more playingfields equates to more oopen areas and overall happiness. So my metric is the total playing fields in a neighborhood."
   ]
  },
  {
   "cell_type": "code",
   "execution_count": 5,
   "metadata": {},
   "outputs": [
    {
     "data": {
      "text/html": [
       "<div>\n",
       "<style scoped>\n",
       "    .dataframe tbody tr th:only-of-type {\n",
       "        vertical-align: middle;\n",
       "    }\n",
       "\n",
       "    .dataframe tbody tr th {\n",
       "        vertical-align: top;\n",
       "    }\n",
       "\n",
       "    .dataframe thead th {\n",
       "        text-align: right;\n",
       "    }\n",
       "</style>\n",
       "<table border=\"1\" class=\"dataframe\">\n",
       "  <thead>\n",
       "    <tr style=\"text-align: right;\">\n",
       "      <th></th>\n",
       "      <th>id</th>\n",
       "      <th>name</th>\n",
       "      <th>has_lights</th>\n",
       "      <th>park</th>\n",
       "      <th>field_usage</th>\n",
       "      <th>goal_post</th>\n",
       "      <th>infield_type</th>\n",
       "      <th>left_field_distance</th>\n",
       "      <th>center_field_distance</th>\n",
       "      <th>right_field_distance</th>\n",
       "      <th>...</th>\n",
       "      <th>neighborhood</th>\n",
       "      <th>council_district</th>\n",
       "      <th>ward</th>\n",
       "      <th>tract</th>\n",
       "      <th>public_works_division</th>\n",
       "      <th>pli_division</th>\n",
       "      <th>police_zone</th>\n",
       "      <th>fire_zone</th>\n",
       "      <th>latitude</th>\n",
       "      <th>longitude</th>\n",
       "    </tr>\n",
       "  </thead>\n",
       "  <tbody>\n",
       "    <tr>\n",
       "      <th>0</th>\n",
       "      <td>1914615260</td>\n",
       "      <td>Arlington Field 1</td>\n",
       "      <td>t</td>\n",
       "      <td>Arlington Park</td>\n",
       "      <td>Diamond Only</td>\n",
       "      <td>0</td>\n",
       "      <td>Skinned</td>\n",
       "      <td>160.0</td>\n",
       "      <td>230.0</td>\n",
       "      <td>290.0</td>\n",
       "      <td>...</td>\n",
       "      <td>South Side Slopes</td>\n",
       "      <td>3</td>\n",
       "      <td>16</td>\n",
       "      <td>42003160800</td>\n",
       "      <td>3</td>\n",
       "      <td>16</td>\n",
       "      <td>3</td>\n",
       "      <td>4-22</td>\n",
       "      <td>40.418314</td>\n",
       "      <td>-79.975007</td>\n",
       "    </tr>\n",
       "    <tr>\n",
       "      <th>1</th>\n",
       "      <td>1151740179</td>\n",
       "      <td>Armstrong</td>\n",
       "      <td>f</td>\n",
       "      <td>Armstrong Park</td>\n",
       "      <td>Diamond and Rectangular</td>\n",
       "      <td>0</td>\n",
       "      <td>Skinned</td>\n",
       "      <td>240.0</td>\n",
       "      <td>163.0</td>\n",
       "      <td>122.0</td>\n",
       "      <td>...</td>\n",
       "      <td>South Side Flats</td>\n",
       "      <td>3</td>\n",
       "      <td>17</td>\n",
       "      <td>42003170200</td>\n",
       "      <td>3</td>\n",
       "      <td>17</td>\n",
       "      <td>3</td>\n",
       "      <td>4-24</td>\n",
       "      <td>40.428074</td>\n",
       "      <td>-79.985662</td>\n",
       "    </tr>\n",
       "    <tr>\n",
       "      <th>2</th>\n",
       "      <td>971009139</td>\n",
       "      <td>Bandbox</td>\n",
       "      <td>f</td>\n",
       "      <td>Arsenal Park</td>\n",
       "      <td>Diamond Only</td>\n",
       "      <td>0</td>\n",
       "      <td>Skinned</td>\n",
       "      <td>135.0</td>\n",
       "      <td>200.0</td>\n",
       "      <td>150.0</td>\n",
       "      <td>...</td>\n",
       "      <td>Lower Lawrenceville</td>\n",
       "      <td>7</td>\n",
       "      <td>6</td>\n",
       "      <td>42003060300</td>\n",
       "      <td>2</td>\n",
       "      <td>6</td>\n",
       "      <td>2</td>\n",
       "      <td>3-3</td>\n",
       "      <td>40.466331</td>\n",
       "      <td>-79.961299</td>\n",
       "    </tr>\n",
       "    <tr>\n",
       "      <th>3</th>\n",
       "      <td>1581124728</td>\n",
       "      <td>Banksville</td>\n",
       "      <td>f</td>\n",
       "      <td>Banksville Park</td>\n",
       "      <td>Diamond Only</td>\n",
       "      <td>0</td>\n",
       "      <td>Skinned</td>\n",
       "      <td>304.0</td>\n",
       "      <td>354.0</td>\n",
       "      <td>373.0</td>\n",
       "      <td>...</td>\n",
       "      <td>Banksville</td>\n",
       "      <td>2</td>\n",
       "      <td>20</td>\n",
       "      <td>42003202300</td>\n",
       "      <td>5</td>\n",
       "      <td>20</td>\n",
       "      <td>6</td>\n",
       "      <td>4-9</td>\n",
       "      <td>40.413923</td>\n",
       "      <td>-80.039940</td>\n",
       "    </tr>\n",
       "    <tr>\n",
       "      <th>4</th>\n",
       "      <td>1052125703</td>\n",
       "      <td>Banksville School</td>\n",
       "      <td>t</td>\n",
       "      <td>Banksville School Park</td>\n",
       "      <td>Diamond Only</td>\n",
       "      <td>0</td>\n",
       "      <td>Skinned</td>\n",
       "      <td>180.0</td>\n",
       "      <td>175.0</td>\n",
       "      <td>185.0</td>\n",
       "      <td>...</td>\n",
       "      <td>Banksville</td>\n",
       "      <td>2</td>\n",
       "      <td>20</td>\n",
       "      <td>42003202300</td>\n",
       "      <td>5</td>\n",
       "      <td>20</td>\n",
       "      <td>6</td>\n",
       "      <td>4-9</td>\n",
       "      <td>40.407059</td>\n",
       "      <td>-80.037870</td>\n",
       "    </tr>\n",
       "  </tbody>\n",
       "</table>\n",
       "<p>5 rows × 21 columns</p>\n",
       "</div>"
      ],
      "text/plain": [
       "           id               name has_lights                    park  \\\n",
       "0  1914615260  Arlington Field 1          t          Arlington Park   \n",
       "1  1151740179          Armstrong          f          Armstrong Park   \n",
       "2   971009139            Bandbox          f            Arsenal Park   \n",
       "3  1581124728         Banksville          f         Banksville Park   \n",
       "4  1052125703  Banksville School          t  Banksville School Park   \n",
       "\n",
       "               field_usage  goal_post infield_type  left_field_distance  \\\n",
       "0             Diamond Only          0      Skinned                160.0   \n",
       "1  Diamond and Rectangular          0      Skinned                240.0   \n",
       "2             Diamond Only          0      Skinned                135.0   \n",
       "3             Diamond Only          0      Skinned                304.0   \n",
       "4             Diamond Only          0      Skinned                180.0   \n",
       "\n",
       "   center_field_distance  right_field_distance  ...         neighborhood  \\\n",
       "0                  230.0                 290.0  ...    South Side Slopes   \n",
       "1                  163.0                 122.0  ...     South Side Flats   \n",
       "2                  200.0                 150.0  ...  Lower Lawrenceville   \n",
       "3                  354.0                 373.0  ...           Banksville   \n",
       "4                  175.0                 185.0  ...           Banksville   \n",
       "\n",
       "  council_district  ward        tract  public_works_division  pli_division  \\\n",
       "0                3    16  42003160800                      3            16   \n",
       "1                3    17  42003170200                      3            17   \n",
       "2                7     6  42003060300                      2             6   \n",
       "3                2    20  42003202300                      5            20   \n",
       "4                2    20  42003202300                      5            20   \n",
       "\n",
       "   police_zone  fire_zone   latitude  longitude  \n",
       "0            3       4-22  40.418314 -79.975007  \n",
       "1            3       4-24  40.428074 -79.985662  \n",
       "2            2        3-3  40.466331 -79.961299  \n",
       "3            6        4-9  40.413923 -80.039940  \n",
       "4            6        4-9  40.407059 -80.037870  \n",
       "\n",
       "[5 rows x 21 columns]"
      ]
     },
     "execution_count": 5,
     "metadata": {},
     "output_type": "execute_result"
    }
   ],
   "source": [
    "import pandas as pd\n",
    "playingfields = pd.read_csv(\"playing_fields.csv\") \n",
    "playingfields.head()"
   ]
  },
  {
   "cell_type": "code",
   "execution_count": 6,
   "metadata": {},
   "outputs": [
    {
     "name": "stdout",
     "output_type": "stream",
     "text": [
      "{'South Side Slopes': 6, 'South Side Flats': 2, 'Lower Lawrenceville': 4, 'Banksville': 2, 'Allentown': 1, 'Brighton Heights': 7, 'Hazelwood': 4, 'Lincoln-Lemington-Belmar': 2, 'Windgap': 1, 'Troy Hill': 3, 'South Oakland': 2, 'Brookline': 6, 'Arlington': 1, 'Mount Washington': 3, 'Crafton Heights': 2, 'East Hills': 1, 'East Liberty': 1, 'Highland Park': 4, 'Squirrel Hill South': 5, 'Upper Lawrenceville': 1, 'Fineview': 1, 'Regent Square': 2, 'Garfield': 1, 'Perry South': 1, 'Perry North': 2, 'Elliott': 2, 'Beechview': 3, 'Morningside': 3, 'Central Lawrenceville': 2, 'Bedford Dwellings': 2, 'Terrace Village': 1, 'Larimer': 1, 'Beltzhoover': 3, 'Greenfield': 2, 'Manchester': 2, 'Allegheny Center': 2, 'Central Oakland': 1, 'Lincoln Place': 1, 'Sheraden': 3, 'Shadyside': 3, 'Spring Garden': 1, 'Oakwood': 1, 'Stanton Heights': 1, 'Carrick': 5, 'Marshall-Shadeland': 1, 'Spring Hill-City View': 2, 'West End': 1, 'Polish Hill': 1, 'Westwood': 2, 'Squirrel Hill North': 1, 'Homewood South': 1}\n"
     ]
    }
   ],
   "source": [
    "playingfield_d = dict()\n",
    "\n",
    "i = 0\n",
    "while i < len(playingfields):\n",
    "    if playingfields.iloc[i][\"neighborhood\"] not in playingfield_d:\n",
    "        playingfield_d[playingfields.iloc[i][\"neighborhood\"]] = 1\n",
    "    else:\n",
    "        playingfield_d[playingfields.iloc[i][\"neighborhood\"]] = playingfield_d[playingfields.iloc[i][\"neighborhood\"]] + 1\n",
    "    i += 1\n",
    "\n",
    "print(playingfield_d)"
   ]
  },
  {
   "cell_type": "code",
   "execution_count": 7,
   "metadata": {},
   "outputs": [
    {
     "data": {
      "text/plain": [
       "<AxesSubplot:xlabel='Neighborhoods'>"
      ]
     },
     "execution_count": 7,
     "metadata": {},
     "output_type": "execute_result"
    },
    {
     "data": {
      "image/png": "[encoded data removed]",
      "text/plain": [
       "<Figure size 432x288 with 1 Axes>"
      ]
     },
     "metadata": {
      "needs_background": "light"
     },
     "output_type": "display_data"
    }
   ],
   "source": [
    "playingfield_df= pd.DataFrame(list(playingfield_d.items()),columns=['Neighborhoods','Total Playingfields'])\n",
    "\n",
    "totals_df=playingfield_df.sort_values('Total Playingfields')\n",
    "\n",
    "\n",
    "totall_df=totals_df.tail(30)\n",
    "\n",
    "\n",
    "totall_df.plot.bar(x='Neighborhoods',y='Total Playingfields')"
   ]
  },
  {
   "cell_type": "markdown",
   "metadata": {},
   "source": [
    "# Analysis #\n",
    "\n",
    "## The neighborhood with the most playingfields is Brighton Heights with 7 however it is very close. With the next two neighborhoods both tied at 6. Squirrel Hill South comes in fourth with 5 which is the leader for our other data sets. Playingfields are open areas which can be utilzed for a variety of activies. For example, soccer,football, picnics, slam ball,etc. I believe this are will be dominated more by younger adults which may sway our fun metric. The winner for playing fields and the top *green_space metric* is Brighton Fields with 7 playing fields."
   ]
  }
 ],
 "metadata": {
  "kernelspec": {
   "display_name": "Python 3",
   "language": "python",
   "name": "python3"
  },
  "language_info": {
   "codemirror_mode": {
    "name": "ipython",
    "version": 3
   },
   "file_extension": ".py",
   "mimetype": "text/x-python",
   "name": "python",
   "nbconvert_exporter": "python",
   "pygments_lexer": "ipython3",
   "version": "3.8.5"
  }
 },
 "nbformat": 4,
 "nbformat_minor": 5
}
